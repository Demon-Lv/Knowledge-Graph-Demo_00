{
 "cells": [
  {
   "cell_type": "code",
   "execution_count": null,
   "metadata": {
    "ExecuteTime": {
     "start_time": "2021-11-21T03:35:01.042Z"
    }
   },
   "outputs": [
    {
     "name": "stdout",
     "output_type": "stream",
     "text": [
      "请输入->老师岳飞写过哪些诗啊\n",
      "['小重山昨夜寒蛩不住鸣', '满江红写怀', '满江红', '小重山']\n",
      "请输入->满江红写怀是谁写的\n",
      "['岳飞']\n",
      "请输入->静夜思是谁写的\n",
      "['李白']\n",
      "请输入->杜甫写过哪些诗\n",
      "['至德二载甫自京金光门出问道归凤翔乾元初有悲往事', '春夜喜雨', '咏怀古迹五首其一', '咏怀古迹五首其二', '咏怀古迹五首其三', '咏怀古迹五首其五', '咏怀古迹五首其四', '梦李白二首其一', '梦李白二首其二', '江畔独步寻花其六', '观公孙大娘弟子舞剑器行', '丹青引赠曹将军霸', '寄韩谏议注', '石壕吏', '羌村三首其三', '绝句', '江南逢李龟年', '八阵图', '咏怀古迹·其五', '咏怀古迹·其四', '咏怀古迹·其三', '咏怀古迹·其二', '咏怀古迹·其一', '阁夜', '宿府', '登楼', '登高', '闻官军收河南河北', '野望', '客至', '蜀相', '登岳阳楼', '旅夜书怀', '别房太尉墓', '奉济驿重送严公四韵', '天末怀李白', '月夜忆舍弟', '至德二载,甫自京金光门出,间道归凤翔,乾元初从左拾遗移华州掾,与亲故别,因出此门,有悲往事', '春宿左省', '月夜', '春望', '哀王孙', '哀江头', '丽人行', '兵车行', '观公孙大娘弟子舞剑器行·并序', '古柏行', '寄韩谏议', '丹青引赠曹霸将军', '韦讽录事宅观曹将军画马图', '梦李白·其二', '梦李白·其一', '佳人', '赠卫八处士', '望岳']\n",
      "请输入->行路难是谁写的\n",
      "['李白']\n"
     ]
    }
   ],
   "source": [
    "import requests\n",
    "import json\n",
    "\n",
    "while 1:\n",
    "    question = input('请输入->')\n",
    "    if len(question) > 0:\n",
    "        data = {\n",
    "        'question':question\n",
    "        }\n",
    "        url = 'http://127.0.0.1:8080/test'\n",
    "        answer = requests.post(url,data=json.dumps(data)).json()\n",
    "        print(answer)\n",
    "    else:\n",
    "        break"
   ]
  },
  {
   "cell_type": "code",
   "execution_count": null,
   "metadata": {},
   "outputs": [],
   "source": []
  }
 ],
 "metadata": {
  "kernelspec": {
   "display_name": "Python 3 (ipykernel)",
   "language": "python",
   "name": "python3"
  },
  "language_info": {
   "codemirror_mode": {
    "name": "ipython",
    "version": 3
   },
   "file_extension": ".py",
   "mimetype": "text/x-python",
   "name": "python",
   "nbconvert_exporter": "python",
   "pygments_lexer": "ipython3",
   "version": "3.7.8"
  },
  "toc": {
   "base_numbering": 1,
   "nav_menu": {},
   "number_sections": true,
   "sideBar": true,
   "skip_h1_title": false,
   "title_cell": "Table of Contents",
   "title_sidebar": "Contents",
   "toc_cell": false,
   "toc_position": {},
   "toc_section_display": true,
   "toc_window_display": false
  },
  "varInspector": {
   "cols": {
    "lenName": 16,
    "lenType": 16,
    "lenVar": 40
   },
   "kernels_config": {
    "python": {
     "delete_cmd_postfix": "",
     "delete_cmd_prefix": "del ",
     "library": "var_list.py",
     "varRefreshCmd": "print(var_dic_list())"
    },
    "r": {
     "delete_cmd_postfix": ") ",
     "delete_cmd_prefix": "rm(",
     "library": "var_list.r",
     "varRefreshCmd": "cat(var_dic_list()) "
    }
   },
   "types_to_exclude": [
    "module",
    "function",
    "builtin_function_or_method",
    "instance",
    "_Feature"
   ],
   "window_display": false
  }
 },
 "nbformat": 4,
 "nbformat_minor": 2
}